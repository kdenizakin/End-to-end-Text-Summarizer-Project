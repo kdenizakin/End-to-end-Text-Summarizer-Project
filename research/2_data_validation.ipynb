{
 "cells": [
  {
   "cell_type": "code",
   "execution_count": 1,
   "metadata": {},
   "outputs": [],
   "source": [
    "import os"
   ]
  },
  {
   "cell_type": "code",
   "execution_count": 2,
   "metadata": {},
   "outputs": [
    {
     "data": {
      "text/plain": [
       "'d:\\\\TextSummarizationProject\\\\End-to-end-Text-Summarizer-Project\\\\research'"
      ]
     },
     "execution_count": 2,
     "metadata": {},
     "output_type": "execute_result"
    }
   ],
   "source": [
    "%pwd"
   ]
  },
  {
   "cell_type": "code",
   "execution_count": 13,
   "metadata": {},
   "outputs": [],
   "source": [
    "os.chdir(\"../\")"
   ]
  },
  {
   "cell_type": "code",
   "execution_count": 15,
   "metadata": {},
   "outputs": [
    {
     "data": {
      "text/plain": [
       "'d:\\\\TextSummarizationProject\\\\End-to-end-Text-Summarizer-Project'"
      ]
     },
     "execution_count": 15,
     "metadata": {},
     "output_type": "execute_result"
    }
   ],
   "source": [
    "%pwd"
   ]
  },
  {
   "cell_type": "code",
   "execution_count": 46,
   "metadata": {},
   "outputs": [],
   "source": [
    "\"\"\"README > 3. Update entity \"\"\"\n",
    "\n",
    "from dataclasses import dataclass\n",
    "from pathlib import Path\n",
    "\n",
    "@dataclass(frozen=True)\n",
    "class DataValidationEntity: #Bu bir python actual classı değildir bir Data Class'tır.\n",
    "    root_directory: Path\n",
    "    status_file: str\n",
    "    required_files_list:list\n",
    "\n",
    "#Bu bir fonksiyonun return type'ı gibidir. Mesela bir \"DataIngestionConfig\" instance oluşturduğumuz zaman bu variableları return edecek. Bu variableları\n",
    "#gerektiği zamanlarda kullanacağız.\n",
    "#Bu bir ENTİTY'DİR."
   ]
  },
  {
   "cell_type": "code",
   "execution_count": 23,
   "metadata": {},
   "outputs": [],
   "source": [
    "#Şimdi \"README.md\" dosyasında yer alan 4. adım olan \"4. Update the configuration manager in src config\" adımda sıra. \n",
    "from textSummarizer.constants import *\n",
    "from textSummarizer.utils.common import read_yaml, create_directories"
   ]
  },
  {
   "cell_type": "code",
   "execution_count": 47,
   "metadata": {},
   "outputs": [],
   "source": [
    "\"\"\"README > 4. Update the configuration manager in src config \"\"\"\n",
    "class ConfigManagerValidation:\n",
    "    def __init__( self, config_filepath = FILE_PATH_CONFIG, params_filepath = FILE_PATH_PARAMS):\n",
    "        self.configs = read_yaml(config_filepath)\n",
    "\n",
    "        \"\"\"read_yaml(config_filepath) ile bu config.yaml dosyasını okuduk\"\"\"\n",
    "    \n",
    "    def get_config_data_validation(self)-> DataValidationEntity: \n",
    "       \n",
    "        create_directories([self.configs.data_validation.root_dir]) #root_dir: artifacts/data_validation.\n",
    "\n",
    "        print(f\"{self.configs.data_validation}\")\n",
    "        \"\"\"ve alttakine erişiyoruz:\n",
    "         data_validation:\n",
    "            root_dir: artifacts/data_validation\n",
    "            status_file: artifacts/data_validation/status.txt\n",
    "            required_files: [\"train\",\"test\",\"validation\"] \"\"\"\n",
    "\n",
    "        data_validation_config_obj = DataValidationEntity(\n",
    "            root_directory = self.configs.data_validation.root_dir, \n",
    "            status_file = self.configs.data_validation.status_file,\n",
    "            required_files_list = self.configs.data_validation.required_files,\n",
    "        ) \n",
    "\n",
    "        return data_validation_config_obj"
   ]
  },
  {
   "cell_type": "code",
   "execution_count": 63,
   "metadata": {},
   "outputs": [
    {
     "data": {
      "text/plain": [
       "' config_manager_obj = ConfigManagerValidation()\\n\\ndata_validation_config =  config_manager_obj.get_config_data_validation() \\ndata_validation_instance = DataValidation(data_validation_config=data_validation_config)\\ndata_validation_instance.validate_data() '"
      ]
     },
     "execution_count": 63,
     "metadata": {},
     "output_type": "execute_result"
    }
   ],
   "source": [
    "\"\"\"README > 5. Update components \"\"\"\n",
    "\n",
    "import os\n",
    "from textSummarizer.logging import logger\n",
    "\n",
    "class DataValidation:\n",
    "    def __init__(self, data_validation_config: DataValidationEntity):\n",
    "        self.configs = data_validation_config\n",
    "\n",
    "    #Şimdi aşağıdaki method \"artifacts\\data_receiver\\samsum_dataset\" dosyası altında test, train ve validation diye 3 tane folder var mı kontrol edecek.\n",
    "    def validate_data(self):\n",
    "        counter = 0\n",
    "\n",
    "        print(self.configs.root_directory)\n",
    "        list_of_required_files = self.configs.required_files_list\n",
    "        list_of_current_folders = os.listdir(\"artifacts\\data_receiver\\samsum_dataset\")\n",
    "\n",
    "        for i in range(len(list_of_required_files)):\n",
    "            for j in range(len(list_of_current_folders)):\n",
    "                if list_of_required_files[i] == list_of_current_folders[j]:\n",
    "                    counter += 1\n",
    "\n",
    "        status_file_path = self.configs.status_file\n",
    "        if(counter == 3):\n",
    "            with open(status_file_path, \"w\") as f:\n",
    "                f.write(f\"Validation is satisfied! {True}\")\n",
    "            return True\n",
    "        else:\n",
    "            with open(status_file_path, \"w\") as f:\n",
    "                f.write(f\"Validation is NOT satisfied! {False}\")\n",
    "            return False\n",
    "\n",
    "\n",
    "\"\"\" config_manager_obj = ConfigManagerValidation()\n",
    "\n",
    "data_validation_config =  config_manager_obj.get_config_data_validation() \n",
    "data_validation_instance = DataValidation(data_validation_config=data_validation_config)\n",
    "data_validation_instance.validate_data() \"\"\""
   ]
  },
  {
   "cell_type": "code",
   "execution_count": 65,
   "metadata": {},
   "outputs": [
    {
     "name": "stdout",
     "output_type": "stream",
     "text": [
      "[2024-05-20 15:07:46,034: INFO: common: yaml file: config\\config.yaml loaded successfully]\n",
      "[2024-05-20 15:07:46,036: INFO: common: Created directory at artifacts/data_validation]\n",
      "{'root_dir': 'artifacts/data_validation', 'status_file': 'artifacts/data_validation/status.txt', 'required_files': ['train', 'test', 'validation']}\n",
      "artifacts/data_validation\n",
      "[2024-05-20 15:07:46,038: INFO: 4091588467: Data Validation has been performed and resulted with status: True]\n"
     ]
    }
   ],
   "source": [
    "\"\"\"README > 6. Update pipeline\"\"\"\n",
    "try:\n",
    "    config_manager_obj = ConfigManagerValidation()\n",
    "    data_validation_config =  config_manager_obj.get_config_data_validation() \n",
    "    data_validation_instance = DataValidation(data_validation_config=data_validation_config)\n",
    "    validation_status= data_validation_instance.validate_data() \n",
    "    logger.info(f\"Data Validation has been performed and resulted with status: {validation_status}\")\n",
    "except Exception as e:\n",
    "    raise e\n"
   ]
  },
  {
   "cell_type": "code",
   "execution_count": null,
   "metadata": {},
   "outputs": [],
   "source": []
  }
 ],
 "metadata": {
  "kernelspec": {
   "display_name": "myenv",
   "language": "python",
   "name": "python3"
  },
  "language_info": {
   "codemirror_mode": {
    "name": "ipython",
    "version": 3
   },
   "file_extension": ".py",
   "mimetype": "text/x-python",
   "name": "python",
   "nbconvert_exporter": "python",
   "pygments_lexer": "ipython3",
   "version": "3.10.2"
  }
 },
 "nbformat": 4,
 "nbformat_minor": 2
}
