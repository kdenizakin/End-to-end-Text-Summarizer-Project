{
 "cells": [
  {
   "cell_type": "code",
   "execution_count": 1,
   "metadata": {},
   "outputs": [],
   "source": [
    "import os"
   ]
  },
  {
   "cell_type": "code",
   "execution_count": 2,
   "metadata": {},
   "outputs": [
    {
     "data": {
      "text/plain": [
       "'d:\\\\TextSummarizationProject\\\\End-to-end-Text-Summarizer-Project\\\\research'"
      ]
     },
     "execution_count": 2,
     "metadata": {},
     "output_type": "execute_result"
    }
   ],
   "source": [
    "%pwd"
   ]
  },
  {
   "cell_type": "code",
   "execution_count": 3,
   "metadata": {},
   "outputs": [],
   "source": [
    "os.chdir(\"../\")"
   ]
  },
  {
   "cell_type": "code",
   "execution_count": 4,
   "metadata": {},
   "outputs": [
    {
     "data": {
      "text/plain": [
       "'d:\\\\TextSummarizationProject\\\\End-to-end-Text-Summarizer-Project'"
      ]
     },
     "execution_count": 4,
     "metadata": {},
     "output_type": "execute_result"
    }
   ],
   "source": [
    "%pwd"
   ]
  },
  {
   "cell_type": "code",
   "execution_count": 5,
   "metadata": {},
   "outputs": [],
   "source": [
    "from dataclasses import dataclass\n",
    "from pathlib import Path\n",
    "\n",
    "@dataclass(frozen=True)\n",
    "class DataReceiverConfig: #Bu bir python actual classı değildir bir Data Class'tır.\n",
    "    root_dir: Path\n",
    "    source_URL: str\n",
    "    local_data_file: Path\n",
    "    unzip_dir: Path\n",
    "\n",
    "#Bu bir fonksiyonun return type'ı gibidir. Mesela bir \"DataIngestionConfig\" instance oluşturduğumuz zaman bu variableları return edecek. Bu variableları\n",
    "#gerektiği zamanlarda kullanacağız.\n",
    "#Mesela \"root_dir\" çağırırsak \"config.yaml\" dosyası içerisindeki \"artifacts/data_ingestion\" pathini return edecek.\n",
    "#Bu bir ENTİTY'DİR."
   ]
  },
  {
   "cell_type": "code",
   "execution_count": 11,
   "metadata": {},
   "outputs": [],
   "source": [
    "#Şimdi \"README.md\" dosyasında yer alan 4. adım olan \"4. Update the configuration manager in src config\" adımda sıra. \n",
    "from textSummarizer.constants import *\n",
    "from textSummarizer.utils.common import read_yaml, create_directories"
   ]
  },
  {
   "cell_type": "code",
   "execution_count": 21,
   "metadata": {},
   "outputs": [],
   "source": [
    "class ConfigurationManager: \n",
    "    def __init__( self, config_filepath = FILE_PATH_CONFIG, params_filepath = FILE_PATH_PARAMS):\n",
    "        \n",
    "        #common.py dosyasındaki read_yaml() fonksiyonu ile yaml dosyasını okuyoruz.\n",
    "        self.config = read_yaml(config_filepath) #Aslında Path(\"config/config.yaml\")\n",
    "        self.params = read_yaml(params_filepath) #Aslında Path(\"params.yaml\")\n",
    "\n",
    "        create_directories([self.config.artifacts_root]) #artifacts_root: artifacts. Bu method ile \"artifacts\" isimli folder otomatik olarak oluşturulur.\n",
    "        #\".\" kullanarak çağırmayı \"ConfigBox\"a borçluyuz.\n",
    "\n",
    "    def get_config_data_receiver(self):\n",
    "        config = self.config.data_receiver #Alttakine erişiyoruz. read_yaml(config_filepath) ile bu config.yaml dosyasını okuduk.\n",
    "        #data_data_receiver:\n",
    "            #root_dir: artifacts/data_ingestion\n",
    "            #source_URL: https://github.com/kdenizakin/End-to-end-Text-Summarizer-Project/raw/main/text_summarizer_dataset.zip #bu URL'den datayı indirecek.\n",
    "            #local_data_file: artifacts/data_ingestion/data.zip #datayı bu foldera ve \"data.zip\" ismiyle indirecek.\n",
    "            #unzip_dir: artifacts/data_ingestion #datanın unzip edilmiş hali buraya download edilecek.\n",
    "\n",
    "        create_directories([config.root_dir])\n",
    "\n",
    "        data_receiver_config = DataReceiverConfig(\n",
    "            root_dir = config.root_dir, # config.root_dir = \"artifacts/data_receiver\". Yani artifacts/data_receiver isimli bir dosya oluşturulacak.\n",
    "            source_URL = config.source_URL,\n",
    "            local_data_file = Path(config.local_data_file),\n",
    "            unzip_dir = Path(config.unzip_dir)\n",
    "        )\n",
    "\n",
    "        return data_receiver_config"
   ]
  },
  {
   "cell_type": "code",
   "execution_count": 16,
   "metadata": {},
   "outputs": [],
   "source": [
    "import os\n",
    "import urllib.request as request\n",
    "import zipfile\n",
    "from textSummarizer.logging import logger\n",
    "from textSummarizer.utils.common import get_size"
   ]
  },
  {
   "cell_type": "code",
   "execution_count": 17,
   "metadata": {},
   "outputs": [],
   "source": [
    "class DataReceiver:\n",
    "    def __init__(self, data_receiver_config: DataReceiverConfig):\n",
    "        self.config = data_receiver_config\n",
    "\n",
    "    def download_data(self):\n",
    "        if not os.path.exists(self.config.local_data_file):\n",
    "            filename, headers = request.urlretrieve(self.config.source_URL,self.config.local_data_file) #config.yaml'dan tüm pathleri alıyoruz.\n",
    "            logger.info(f\"Downloaded data from {self.config.source_URL} to {self.config.local_data_file} with information: {headers}\")\n",
    "        else:\n",
    "            logger.info(f\"Data already exists at {self.config.local_data_file}\")\n",
    "\n",
    "    #Datayı download ettikten sonra extract edilmesi de gerekmektedir.\n",
    "    def extract_data(self):\n",
    "        folder_path_to_unzip = self.config.unzip_dir\n",
    "        os.makedirs(folder_path_to_unzip, exist_ok=True)\n",
    "        with zipfile.ZipFile(self.config.local_data_file, \"r\") as zip_ref:\n",
    "            zip_ref.extractall(folder_path_to_unzip)\n",
    "\n"
   ]
  },
  {
   "cell_type": "code",
   "execution_count": 23,
   "metadata": {},
   "outputs": [
    {
     "name": "stdout",
     "output_type": "stream",
     "text": [
      "[2024-05-20 07:47:56,161: INFO: common: yaml file: config\\config.yaml loaded successfully]\n",
      "[2024-05-20 07:47:56,163: INFO: common: yaml file: params.yaml loaded successfully]\n",
      "[2024-05-20 07:47:56,166: INFO: common: Created directory at artifacts]\n",
      "[2024-05-20 07:47:56,168: INFO: common: Created directory at artifacts/data_receiver]\n",
      "[2024-05-20 07:47:58,223: INFO: 1475340574: Downloaded data from https://github.com/kdenizakin/End-to-end-Text-Summarizer-Project/raw/main/text_summarizer_dataset.zip to artifacts\\data_receiver\\data.zip with information: Connection: close\n",
      "Content-Length: 7903594\n",
      "Cache-Control: max-age=300\n",
      "Content-Security-Policy: default-src 'none'; style-src 'unsafe-inline'; sandbox\n",
      "Content-Type: application/zip\n",
      "ETag: \"dbc016a060da18070593b83afff580c9b300f0b6ea4147a7988433e04df246ca\"\n",
      "Strict-Transport-Security: max-age=31536000\n",
      "X-Content-Type-Options: nosniff\n",
      "X-Frame-Options: deny\n",
      "X-XSS-Protection: 1; mode=block\n",
      "X-GitHub-Request-Id: 8AE0:1E7558:3C19220:3F6651E:664AD5FA\n",
      "Accept-Ranges: bytes\n",
      "Date: Mon, 20 May 2024 04:47:56 GMT\n",
      "Via: 1.1 varnish\n",
      "X-Served-By: cache-fra-eddf8230083-FRA\n",
      "X-Cache: MISS\n",
      "X-Cache-Hits: 0\n",
      "X-Timer: S1716180476.890286,VS0,VE538\n",
      "Vary: Authorization,Accept-Encoding,Origin\n",
      "Access-Control-Allow-Origin: *\n",
      "Cross-Origin-Resource-Policy: cross-origin\n",
      "X-Fastly-Request-ID: d8f3ee4909a14cd07804ca9a4deaadd0442cda96\n",
      "Expires: Mon, 20 May 2024 04:52:56 GMT\n",
      "Source-Age: 0\n",
      "\n",
      "]\n",
      "[2024-05-20 07:47:58,453: INFO: 2972301115: Extracted data from artifacts\\data_receiver\\data.zip to artifacts\\data_receiver with size ~\t0 KBs]\n"
     ]
    }
   ],
   "source": [
    "#Burası pipeline\n",
    "try:\n",
    "    config_manager_obj = ConfigurationManager()\n",
    "    data_receiver_config =  config_manager_obj.get_config_data_receiver()\n",
    "    data_receiver = DataReceiver(data_receiver_config=data_receiver_config)\n",
    "    data_receiver.download_data()\n",
    "    data_receiver.extract_data()\n",
    "    logger.info(f\"Extracted data from {data_receiver_config.local_data_file} to {data_receiver_config.unzip_dir} with size {get_size(data_receiver_config.unzip_dir)}\")\n",
    "except Exception as e:\n",
    "    raise e"
   ]
  },
  {
   "cell_type": "code",
   "execution_count": null,
   "metadata": {},
   "outputs": [],
   "source": []
  }
 ],
 "metadata": {
  "kernelspec": {
   "display_name": "myenv",
   "language": "python",
   "name": "python3"
  },
  "language_info": {
   "codemirror_mode": {
    "name": "ipython",
    "version": 3
   },
   "file_extension": ".py",
   "mimetype": "text/x-python",
   "name": "python",
   "nbconvert_exporter": "python",
   "pygments_lexer": "ipython3",
   "version": "3.10.2"
  }
 },
 "nbformat": 4,
 "nbformat_minor": 2
}
