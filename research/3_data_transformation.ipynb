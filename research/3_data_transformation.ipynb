{
 "cells": [
  {
   "cell_type": "code",
   "execution_count": 1,
   "metadata": {},
   "outputs": [],
   "source": [
    "import os"
   ]
  },
  {
   "cell_type": "code",
   "execution_count": 2,
   "metadata": {},
   "outputs": [
    {
     "data": {
      "text/plain": [
       "'d:\\\\TextSummarizationProject\\\\End-to-end-Text-Summarizer-Project\\\\research'"
      ]
     },
     "execution_count": 2,
     "metadata": {},
     "output_type": "execute_result"
    }
   ],
   "source": [
    "%pwd"
   ]
  },
  {
   "cell_type": "code",
   "execution_count": 3,
   "metadata": {},
   "outputs": [],
   "source": [
    "os.chdir(\"../\")"
   ]
  },
  {
   "cell_type": "code",
   "execution_count": 4,
   "metadata": {},
   "outputs": [
    {
     "data": {
      "text/plain": [
       "'d:\\\\TextSummarizationProject\\\\End-to-end-Text-Summarizer-Project'"
      ]
     },
     "execution_count": 4,
     "metadata": {},
     "output_type": "execute_result"
    }
   ],
   "source": [
    "%pwd"
   ]
  },
  {
   "cell_type": "code",
   "execution_count": 7,
   "metadata": {},
   "outputs": [],
   "source": [
    "\"\"\"README > 3. Update entity \"\"\"\n",
    "\n",
    "from dataclasses import dataclass\n",
    "from pathlib import Path\n",
    "\n",
    "@dataclass(frozen=True)\n",
    "class DataTransformationEntity:\n",
    "    root_dir: Path #artifacts/data_transformation\n",
    "    data_path: Path #artifacts/data_receiver/samsum_dataset\n",
    "    tokenizer: Path #google/pegasus-cnn-dailymail. Automatically download the tokenizer.\n"
   ]
  },
  {
   "cell_type": "code",
   "execution_count": 19,
   "metadata": {},
   "outputs": [],
   "source": [
    "\"\"\"README > 4. Update the configuration manager in src config \"\"\"\n",
    "from textSummarizer.constants import *\n",
    "from textSummarizer.utils.common import read_yaml, create_directories\n",
    "\n",
    "class ConfigurationManager:\n",
    "    def __init__(self, config_yaml_path = FILE_PATH_CONFIG):\n",
    "        self.config = read_yaml(config_yaml_path)\n",
    "\n",
    "    def get_config_data_transformation(self) -> DataTransformationEntity:\n",
    "        \n",
    "        create_directories([self.config.data_transformation.root_dir])\n",
    "\n",
    "        \"\"\"ConfigBox kullanmadan böyle de attributelar çağrılabilir.\"\"\"\n",
    "        return DataTransformationEntity(\n",
    "            root_dir = self.config.data_transformation.root_dir,\n",
    "            data_path = self.config.data_transformation.data_path,\n",
    "            tokenizer = self.config.data_transformation.tokenizer\n",
    "        ) "
   ]
  },
  {
   "cell_type": "code",
   "execution_count": null,
   "metadata": {},
   "outputs": [],
   "source": []
  },
  {
   "cell_type": "code",
   "execution_count": 12,
   "metadata": {},
   "outputs": [],
   "source": [
    "\"\"\"README > 5. Update components \"\"\"\n",
    "import os\n",
    "from textSummarizer.logging import logger\n",
    "from transformers import AutoTokenizer\n",
    "from datasets import load_dataset, load_from_disk\n",
    "\n",
    "\n",
    "\n",
    "class DataTransformer:\n",
    "    def __init__(self, config: DataTransformationEntity):\n",
    "        self.config = config\n",
    "        self.tokenizer = AutoTokenizer.from_pretrained(self.config.tokenizer)\n",
    "    \n",
    "    def convert_examples_to_features(self, example_batch):\n",
    "\n",
    "        input_encodings = self.tokenizer(example_batch['dialogue'] , max_length = 1024, truncation = True )\n",
    "        \"\"\" \n",
    "        Tokenizer, metinleri modelin anlayabileceği tokenlere dönüştüren bir objecttir. Mesela cümledeki her bir harf bir token yapılabilir. \n",
    "        Benzer şekilde cümledeki her bir kelime de token yapılabilir.\n",
    "        Yani tokenizerlar ile metin daha küçük paraçalara ayrılır.\n",
    "        max_length = 1024 demek, tokenlere ayrılacak olan metnin maximum uzunluğunu göstermektedir. \n",
    "        \"truncation = True\" parametresi ise eğer metin 1024 karakterden daha uzun ise kesileceği anlamına gelir. \n",
    "        \"\"\"\n",
    "\n",
    "        with self.tokenizer.as_target_tokenizer():\n",
    "            target_encodings = self.tokenizer(example_batch['summary'], max_length = 128, truncation = True )\n",
    "\n",
    "        return { #Burada ise datanın featurelarına \"input_ids, attention_mask, labels\" columnlarını eklemekteyiz.\n",
    "            'input_ids' : input_encodings['input_ids'],\n",
    "            'attention_mask': input_encodings['attention_mask'],\n",
    "            'labels': target_encodings['input_ids']\n",
    "    }\n",
    "\n",
    "    def convert(self):\n",
    "        dataset_samsum = load_from_disk(self.config.data_path)\n",
    "        dataset_samsum_pt = dataset_samsum.map(self.convert_examples_to_features, batched = True)\n",
    "        saving_dir = os.path.join(self.config.root_dir, \"samsum_dataset\")\n",
    "        dataset_samsum_pt.save_to_disk(saving_dir)"
   ]
  },
  {
   "cell_type": "code",
   "execution_count": 21,
   "metadata": {},
   "outputs": [
    {
     "name": "stdout",
     "output_type": "stream",
     "text": [
      "[2024-05-20 22:11:14,621: INFO: common: yaml file: config\\config.yaml loaded successfully]\n",
      "[2024-05-20 22:11:14,622: INFO: common: Created directory at artifacts/data_transformation]\n"
     ]
    },
    {
     "name": "stderr",
     "output_type": "stream",
     "text": [
      "d:\\TextSummarizationProject\\End-to-end-Text-Summarizer-Project\\myenv\\lib\\site-packages\\huggingface_hub\\file_download.py:157: UserWarning: `huggingface_hub` cache-system uses symlinks by default to efficiently store duplicated files but your machine does not support them in C:\\Users\\Deniz\\.cache\\huggingface\\hub\\models--google--pegasus-cnn_dailymail. Caching files will still work but in a degraded version that might require more space on your disk. This warning can be disabled by setting the `HF_HUB_DISABLE_SYMLINKS_WARNING` environment variable. For more details, see https://huggingface.co/docs/huggingface_hub/how-to-cache#limitations.\n",
      "To support symlinks on Windows, you either need to activate Developer Mode or to run Python as an administrator. In order to see activate developer mode, see this article: https://docs.microsoft.com/en-us/windows/apps/get-started/enable-your-device-for-development\n",
      "  warnings.warn(message)\n",
      "Map:   0%|          | 0/14732 [00:00<?, ? examples/s]d:\\TextSummarizationProject\\End-to-end-Text-Summarizer-Project\\myenv\\lib\\site-packages\\transformers\\tokenization_utils_base.py:3921: UserWarning: `as_target_tokenizer` is deprecated and will be removed in v5 of Transformers. You can tokenize your labels by using the argument `text_target` of the regular `__call__` method (either in the same call as your input texts if you use the same keyword arguments, or in a separate call.\n",
      "  warnings.warn(\n",
      "Map: 100%|██████████| 14732/14732 [00:02<00:00, 5479.19 examples/s]\n",
      "Map: 100%|██████████| 819/819 [00:00<00:00, 6314.69 examples/s]\n",
      "Map: 100%|██████████| 818/818 [00:00<00:00, 4060.64 examples/s]\n",
      "Saving the dataset (1/1 shards): 100%|██████████| 14732/14732 [00:00<00:00, 527578.20 examples/s]\n",
      "Saving the dataset (1/1 shards): 100%|██████████| 819/819 [00:00<00:00, 163104.08 examples/s]\n",
      "Saving the dataset (1/1 shards): 100%|██████████| 818/818 [00:00<00:00, 136669.08 examples/s]\n"
     ]
    }
   ],
   "source": [
    "try:\n",
    "    config_manager_obj = ConfigurationManager()\n",
    "    data_transformation_config =  config_manager_obj.get_config_data_transformation() \n",
    "    data_transformation_instance = DataTransformer(config=data_transformation_config)\n",
    "    data_transformation_instance.convert()\n",
    "except Exception as e:\n",
    "    raise e"
   ]
  },
  {
   "cell_type": "code",
   "execution_count": null,
   "metadata": {},
   "outputs": [],
   "source": []
  }
 ],
 "metadata": {
  "kernelspec": {
   "display_name": "myenv",
   "language": "python",
   "name": "python3"
  },
  "language_info": {
   "codemirror_mode": {
    "name": "ipython",
    "version": 3
   },
   "file_extension": ".py",
   "mimetype": "text/x-python",
   "name": "python",
   "nbconvert_exporter": "python",
   "pygments_lexer": "ipython3",
   "version": "3.10.2"
  }
 },
 "nbformat": 4,
 "nbformat_minor": 2
}
