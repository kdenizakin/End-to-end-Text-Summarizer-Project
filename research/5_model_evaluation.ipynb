{
 "cells": [
  {
   "cell_type": "code",
   "execution_count": 1,
   "metadata": {},
   "outputs": [],
   "source": [
    "import os"
   ]
  },
  {
   "cell_type": "code",
   "execution_count": 2,
   "metadata": {},
   "outputs": [
    {
     "data": {
      "text/plain": [
       "'d:\\\\TextSummarizationProject\\\\End-to-end-Text-Summarizer-Project\\\\research'"
      ]
     },
     "execution_count": 2,
     "metadata": {},
     "output_type": "execute_result"
    }
   ],
   "source": [
    "%pwd"
   ]
  },
  {
   "cell_type": "code",
   "execution_count": 3,
   "metadata": {},
   "outputs": [],
   "source": [
    "os.chdir(\"../\")"
   ]
  },
  {
   "cell_type": "code",
   "execution_count": 4,
   "metadata": {},
   "outputs": [
    {
     "data": {
      "text/plain": [
       "'d:\\\\TextSummarizationProject\\\\End-to-end-Text-Summarizer-Project'"
      ]
     },
     "execution_count": 4,
     "metadata": {},
     "output_type": "execute_result"
    }
   ],
   "source": [
    "%pwd"
   ]
  },
  {
   "cell_type": "code",
   "execution_count": 5,
   "metadata": {},
   "outputs": [],
   "source": [
    "\"\"\"README > 3. Update entity \"\"\"\n",
    "\n",
    "from dataclasses import dataclass\n",
    "from pathlib import Path\n",
    "\n",
    "@dataclass(frozen=True)\n",
    "class ModelEvaluationEntity:\n",
    "    root_dir: Path \n",
    "    data_path: Path \n",
    "    model_path: Path \n",
    "    tokenizer_path:Path\n",
    "    metric_file_name: Path\n",
    "    \n"
   ]
  },
  {
   "cell_type": "code",
   "execution_count": 6,
   "metadata": {},
   "outputs": [],
   "source": [
    "\"\"\"README > 4. Update the configuration manager in src config \"\"\"\n",
    "from textSummarizer.constants import *\n",
    "from textSummarizer.utils.common import read_yaml, create_directories\n",
    "\n",
    "class ConfigurationManager:\n",
    "    def __init__( self, config_filepath = FILE_PATH_CONFIG, params_filepath = FILE_PATH_PARAMS):\n",
    "        \n",
    "        #common.py dosyasındaki read_yaml() fonksiyonu ile yaml dosyasını okuyoruz.\n",
    "        self.config = read_yaml(config_filepath) #Aslında Path(\"config/config.yaml\")\n",
    "        self.params = read_yaml(params_filepath) #Aslında Path(\"params.yaml\")\n",
    "\n",
    "        create_directories([self.config.artifacts_root]) #artifacts_root: artifacts. Bu method ile \"artifacts\" isimli folder otomatik olarak oluşturulur.\n",
    "        #\".\" kullanarak çağırmayı \"ConfigBox\"a borçluyuz.\n",
    "\n",
    "    def get_config_model_evaluation(self) -> ModelEvaluationEntity:\n",
    "\n",
    "        config_model_evaluation = self.config.model_evaluation\n",
    "        create_directories([config_model_evaluation.root_dir])\n",
    "        return ModelEvaluationEntity(\n",
    "            root_dir = config_model_evaluation.root_dir,\n",
    "            data_path = config_model_evaluation.data_path,\n",
    "            model_path = config_model_evaluation.model_path,\n",
    "            tokenizer_path = config_model_evaluation.tokenizer_path,\n",
    "            metric_file_name = config_model_evaluation.metric_file_name\n",
    "        )\n",
    "        \n",
    "        "
   ]
  },
  {
   "cell_type": "code",
   "execution_count": 7,
   "metadata": {},
   "outputs": [
    {
     "name": "stderr",
     "output_type": "stream",
     "text": [
      "d:\\TextSummarizationProject\\End-to-end-Text-Summarizer-Project\\myenv\\lib\\site-packages\\tqdm\\auto.py:21: TqdmWarning: IProgress not found. Please update jupyter and ipywidgets. See https://ipywidgets.readthedocs.io/en/stable/user_install.html\n",
      "  from .autonotebook import tqdm as notebook_tqdm\n"
     ]
    },
    {
     "name": "stdout",
     "output_type": "stream",
     "text": [
      "[2024-05-24 09:54:06,801: INFO: config: PyTorch version 2.3.0 available.]\n"
     ]
    }
   ],
   "source": [
    "from transformers import  AutoModelForSeq2SeqLM, AutoTokenizer\n",
    "from datasets import load_dataset, load_from_disk, load_metric\n",
    "import torch\n",
    "import pandas as pd\n",
    "from tqdm import tqdm"
   ]
  },
  {
   "cell_type": "code",
   "execution_count": 10,
   "metadata": {},
   "outputs": [],
   "source": [
    "\"\"\"README > 5. Update components \"\"\"\n",
    "\n",
    "\n",
    "class ModelEvaluation:\n",
    "    def __init__(self, config: ModelEvaluationEntity):\n",
    "        self.config = config\n",
    "\n",
    "    def generate_batches_from_the_list(self, list_elements, batch_size):\n",
    "        for i in range(0,len(list_elements), batch_size):\n",
    "            yield list_elements[i:i+batch_size]\n",
    "\n",
    "    def calculate_metrics(self, dataset, metric, model, tokenizer, batch_size = 16, device = \"cpu\",\n",
    "                      column_text=\"article\",\n",
    "                      column_summary=\"highlights\"):\n",
    "        article_batches = list(self.generate_batches_from_the_list(dataset[column_text], batch_size))\n",
    "        target_batches = list(self.generate_batches_from_the_list(dataset[column_summary], batch_size))\n",
    "\n",
    "        for article_batch, target_batch in tqdm(zip(article_batches, target_batches), total=len(article_batches)):\n",
    "            inputs = tokenizer(article_batch, max_length=1024, truncation=True, padding=\"max_length\", return_tensors = \"pt\")\n",
    "            summaries = model.generate(input_ids = inputs[\"input_ids\"].to(device), attention_mask=inputs[\"attention_mask\"].to(device), \n",
    "                                       length_penalty=0.8, num_beams=8, max_length=128)\n",
    "\n",
    "            decoded_summaries=[tokenizer.decode(s,skip_special_tokens=True, clean_up_tokenization_spaces=True) for s in summaries]\n",
    "\n",
    "            decoded_summaries = [d.replace(\"\", \" \") for d in decoded_summaries]\n",
    "\n",
    "            metric.add_batch(predictions=decoded_summaries, references=target_batch)\n",
    "\n",
    "        #  Finally compute and return the ROUGE scores.\n",
    "        score = metric.compute()\n",
    "        return score\n",
    "    \n",
    "    def evaluate_model(self):\n",
    "        device = \"cpu\"\n",
    "        tokenizer = AutoTokenizer.from_pretrained(self.config.tokenizer_path)\n",
    "        model_pegasus = AutoModelForSeq2SeqLM.from_pretrained(self.config.model_path).to(device)\n",
    "\n",
    "        dataset_samsum_pt = load_from_disk(self.config.data_path)\n",
    "\n",
    "        rouge_names = [\"rouge1\", \"rouge2\", \"rougeL\", \"rougeLsum\"]\n",
    "        rouge_metric = load_metric('rouge')\n",
    "\n",
    "        score = self.calculate_metrics(\n",
    "        dataset_samsum_pt['test'][0:10], rouge_metric, model_pegasus, tokenizer, batch_size = 2, column_text = 'dialogue', column_summary= 'summary')\n",
    "        print(score)\n",
    "\n",
    "        rouge_dict = dict((rn, score[rn].mid.fmeasure ) for rn in rouge_names )\n",
    "\n",
    "        df = pd.DataFrame(rouge_dict, index = ['pegasus'] )\n",
    "        df.to_csv(self.config.metric_file_name, index=False)"
   ]
  },
  {
   "cell_type": "code",
   "execution_count": 11,
   "metadata": {},
   "outputs": [
    {
     "name": "stdout",
     "output_type": "stream",
     "text": [
      "[2024-05-24 10:07:16,211: INFO: common: yaml file: config\\config.yaml loaded successfully]\n",
      "[2024-05-24 10:07:16,214: INFO: common: yaml file: params.yaml loaded successfully]\n",
      "[2024-05-24 10:07:16,215: INFO: common: Created directory at artifacts]\n",
      "[2024-05-24 10:07:16,216: INFO: common: Created directory at artifacts/model_evaluation]\n"
     ]
    },
    {
     "name": "stderr",
     "output_type": "stream",
     "text": [
      "d:\\TextSummarizationProject\\End-to-end-Text-Summarizer-Project\\myenv\\lib\\site-packages\\datasets\\load.py:759: FutureWarning: The repository for rouge contains custom code which must be executed to correctly load the metric. You can inspect the repository content at https://raw.githubusercontent.com/huggingface/datasets/2.19.1/metrics/rouge/rouge.py\n",
      "You can avoid this message in future by passing the argument `trust_remote_code=True`.\n",
      "Passing `trust_remote_code=True` will be mandatory to load this metric from the next major release of `datasets`.\n",
      "  warnings.warn(\n",
      "100%|██████████| 5/5 [03:06<00:00, 37.24s/it]\n"
     ]
    },
    {
     "name": "stdout",
     "output_type": "stream",
     "text": [
      "[2024-05-24 10:13:22,577: INFO: rouge_scorer: Using default tokenizer.]\n",
      "{'rouge1': AggregateScore(low=Score(precision=0.00723041015030432, recall=0.0298759309309762, fmeasure=0.011427972548075122), mid=Score(precision=0.014122995163645909, recall=0.06381940717873272, fmeasure=0.022634826399746552), high=Score(precision=0.021228754013506795, recall=0.094997947454844, fmeasure=0.033989252766741314)), 'rouge2': AggregateScore(low=Score(precision=0.0, recall=0.0, fmeasure=0.0), mid=Score(precision=0.0, recall=0.0, fmeasure=0.0), high=Score(precision=0.0, recall=0.0, fmeasure=0.0)), 'rougeL': AggregateScore(low=Score(precision=0.0075411557434813285, recall=0.03476371801094557, fmeasure=0.012258534600444706), mid=Score(precision=0.01396279513981264, recall=0.0635042523108091, fmeasure=0.02237212401492758), high=Score(precision=0.02103281766694625, recall=0.094194957622605, fmeasure=0.03325453766609232)), 'rougeLsum': AggregateScore(low=Score(precision=0.007420691833699572, recall=0.03369980183015679, fmeasure=0.011696836408614615), mid=Score(precision=0.014122995163645905, recall=0.06330722556189994, fmeasure=0.022399206507685135), high=Score(precision=0.02135902010205695, recall=0.09449719489682504, fmeasure=0.033344188132019226))}\n"
     ]
    }
   ],
   "source": [
    "try:\n",
    "    config = ConfigurationManager()\n",
    "    model_evaluation_config = config.get_config_model_evaluation()\n",
    "    model_evaluation_config = ModelEvaluation(config=model_evaluation_config)\n",
    "    model_evaluation_config.evaluate_model()\n",
    "except Exception as e:\n",
    "    raise e"
   ]
  },
  {
   "cell_type": "code",
   "execution_count": null,
   "metadata": {},
   "outputs": [],
   "source": []
  }
 ],
 "metadata": {
  "kernelspec": {
   "display_name": "myenv",
   "language": "python",
   "name": "python3"
  },
  "language_info": {
   "codemirror_mode": {
    "name": "ipython",
    "version": 3
   },
   "file_extension": ".py",
   "mimetype": "text/x-python",
   "name": "python",
   "nbconvert_exporter": "python",
   "pygments_lexer": "ipython3",
   "version": "3.10.2"
  }
 },
 "nbformat": 4,
 "nbformat_minor": 2
}
